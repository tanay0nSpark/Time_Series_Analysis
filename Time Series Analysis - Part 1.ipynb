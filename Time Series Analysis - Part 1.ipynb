{
 "cells": [
  {
   "cell_type": "markdown",
   "metadata": {},
   "source": [
    "# Time Series Analysis - Part 1"
   ]
  },
  {
   "cell_type": "markdown",
   "metadata": {},
   "source": [
    "Table of Content\n",
    "Let us have a quick overview of this blog.\n",
    "\n",
    "* What is time series?\n",
    "\n",
    "* Real-life scenarios of time series\n",
    "\n",
    "* Time series analysis\n",
    "\n",
    "* Forecasting\n",
    "\n",
    "* Types of forecasting:\n",
    "\n",
    "    - Quantitative forecasting\n",
    "    \n",
    "    - Qualitative forecasting\n",
    "\n",
    "* Regression vs Time series\n",
    "\n",
    "* Time Series components\n",
    "\n",
    "* Analyzing kaggle time-series data\n",
    "\n",
    "* Plotting the time-series graph"
   ]
  },
  {
   "cell_type": "markdown",
   "metadata": {},
   "source": [
    "**What is time series?**\n",
    "\n",
    "> Time series is a **sequence or series of data points** in which the **time component is involved** throughout the occurrence."
   ]
  },
  {
   "cell_type": "markdown",
   "metadata": {},
   "source": [
    "**Example of time series data:**\n",
    "    \n",
    "> Healthcare industry – Blood pressure monitoring, Heart rate monitoring.\n",
    "\n",
    "> Environment – Global temperature and air pollution levels.\n",
    "\n",
    "> Society – Birth rates over a period of time, Population, etc\n",
    "\n",
    "\n",
    "![Time series example](https://www.statisticshowto.com/wp-content/uploads/2013/09/wsj-timeplot.jpg)"
   ]
  },
  {
   "cell_type": "markdown",
   "metadata": {},
   "source": [
    "**What is Time series analysis?**\n",
    "\n",
    "> Analyzing this time series data with certain tools and techniques is called time series analysis.\n",
    "\n",
    "> Example: The restaurant’s daily visitors are predicted by this time series data. So that the restaurant management can appoint and accommodate staff according to the number of visitors."
   ]
  },
  {
   "cell_type": "markdown",
   "metadata": {},
   "source": [
    "**Forecasting**\n",
    "\n",
    "Forecasting is the *process of making predictions* from the historical data so that they can predict the future from the past and present data.\n",
    "\n",
    "**Types of forecasting:**\n",
    "\n",
    "    1) Quantitative forecasting\n",
    "\n",
    "    2) Qualitative forecasting\n",
    "\n",
    "Let us see what it is,\n",
    "\n",
    "1) **Quantitative forecasting**\n",
    "\n",
    "Quantitative forecasting is done based on the **historical data (i,e) Past and present data mostly numerical data**. Through this historical data, we use statistical methods and so we can predict with lesser bias.\n",
    "\n",
    "2) **Qualitative forecasting**\n",
    "\n",
    "Qualitative forecasting is done based on the **opinion and judgment of the subject matter experts and the customers**. \n",
    "\n",
    "    - Why we rely upon judgment instead of data? \n",
    "    \n",
    "    > Because in some cases, the past data are not available or unclear. so here we are depend on judgment and opinions.\n",
    "\n",
    "You may have some doubts about regression and time series. Both have some similarities and differences."
   ]
  },
  {
   "cell_type": "markdown",
   "metadata": {},
   "source": [
    "**Regression vs Time Series**\n",
    "\n",
    "> The Regression analysis and Time series analysis are done on `continuous variables`.\n",
    "\n",
    "**Regression**\n",
    "\n",
    "> It is the relationship between dependent and independent variables.\n",
    "\n",
    "> The target variable is continuous.\n",
    "\n",
    "> This involves finding patterns in the data and predict the target with this pattern.\n",
    "\n",
    "![reg](https://editor.analyticsvidhya.com/uploads/62642Untitled%20design%20(2).png)\n",
    "\n",
    "**Time Series**\n",
    "\n",
    "> It is the series of data points associated with time.\n",
    "\n",
    "> The target variable is continuous.\n",
    "\n",
    "> This involves finding trends in the data and forecast the future with this trend.\n",
    "\n",
    "![ts](https://editor.analyticsvidhya.com/uploads/82932Untitled%20design%20(9).png)"
   ]
  },
  {
   "cell_type": "markdown",
   "metadata": {},
   "source": [
    "### Time series Components\n",
    "\n",
    "> The time-series graph helps to highlight the trend and behavior of the data over time for building a more reliable model.\n",
    "To understand these patterns, we should structure this data and breakdown into several factors. \n",
    "We use various components to break down this data. \n",
    "\n",
    "*They are:*\n",
    "\n",
    "* Structural breaks\n",
    "\n",
    "* Trend\n",
    "\n",
    "* Seasonality\n",
    "\n",
    "* Cyclicity\n",
    "\n",
    "* Noise\n",
    "\n",
    "* Level"
   ]
  },
  {
   "cell_type": "markdown",
   "metadata": {},
   "source": [
    "1) **Structural breaks**\n",
    "\n",
    "- It is a component that shows some sudden change in the time series data. \n",
    "- This structural break affects the reliability of the results. \n",
    "- Statistical methods should be used to identify the structural breaks.\n",
    "\n",
    "![struct_break](https://editor.analyticsvidhya.com/uploads/38862Untitled%20design%20(10).png)"
   ]
  },
  {
   "cell_type": "markdown",
   "metadata": {},
   "source": [
    "2) **Trend**\n",
    "- Time series data may have a thing that is proportionate to the time period -> There occurs the trend. \n",
    "- In short “Trend” is the demonstration of whether the time series has moved higher or lower over a time period. \n",
    "- The reliability of the results of time series relies upon the correct identification of time trends.\n",
    "\n",
    "> Here is an example, the Monthly revenue of a company. This shows an increasing trend\n",
    "\n",
    "![trend](https://editor.analyticsvidhya.com/uploads/37722Untitled%20design%20(7).png)"
   ]
  },
  {
   "cell_type": "markdown",
   "metadata": {},
   "source": [
    "3) **Seasonality**\n",
    "\n",
    "- Seasonality is also a component where the time series data shows a regular pattern over an interval of time. \n",
    "- It repeats after the fixed interval of time.\n",
    "\n",
    "> An example of a time series with seasonality is sales, which often increases for every 20 days\n",
    "\n",
    "![seasonality](https://editor.analyticsvidhya.com/uploads/89766Untitled%20design%20(12).png)"
   ]
  },
  {
   "cell_type": "markdown",
   "metadata": {},
   "source": [
    "4) **Cyclicity**\n",
    "\n",
    "- Cyclicity is the component in which the time series data repeats after some interval of time. \n",
    "- The interval is not fixed here.\n",
    "\n",
    "> Electricity demand per week is plotted in a time-series graph. The demand per 2 weeks repeats cyclically. This represents cyclicity.\n",
    "\n",
    "![cyclic](https://editor.analyticsvidhya.com/uploads/95216Untitled%20design%20(13).png)"
   ]
  },
  {
   "cell_type": "markdown",
   "metadata": {},
   "source": [
    "5) **Noise**\n",
    "\n",
    "- Noise is the random fluctuation in the time series data. We can’t consider them for predicting the future.\n",
    "\n",
    "![noise](https://machinelearningmastery.com/wp-content/uploads/2017/01/White-Noise-Series-Line-Plot.png)\n",
    "\n",
    "6) **Level**\n",
    "\n",
    "- The average time series is called level."
   ]
  },
  {
   "cell_type": "markdown",
   "metadata": {},
   "source": [
    "## Analyzing kaggle time series data:"
   ]
  },
  {
   "cell_type": "code",
   "execution_count": 3,
   "metadata": {},
   "outputs": [
    {
     "data": {
      "text/html": [
       "<div>\n",
       "<style scoped>\n",
       "    .dataframe tbody tr th:only-of-type {\n",
       "        vertical-align: middle;\n",
       "    }\n",
       "\n",
       "    .dataframe tbody tr th {\n",
       "        vertical-align: top;\n",
       "    }\n",
       "\n",
       "    .dataframe thead th {\n",
       "        text-align: right;\n",
       "    }\n",
       "</style>\n",
       "<table border=\"1\" class=\"dataframe\">\n",
       "  <thead>\n",
       "    <tr style=\"text-align: right;\">\n",
       "      <th></th>\n",
       "      <th>Period</th>\n",
       "      <th>Revenue</th>\n",
       "      <th>Sales_quantity</th>\n",
       "      <th>Average_cost</th>\n",
       "      <th>The_average_annual_payroll_of_the_region</th>\n",
       "    </tr>\n",
       "  </thead>\n",
       "  <tbody>\n",
       "    <tr>\n",
       "      <th>0</th>\n",
       "      <td>01.01.2015</td>\n",
       "      <td>1.601007e+07</td>\n",
       "      <td>12729.0</td>\n",
       "      <td>1257.763541</td>\n",
       "      <td>30024676.0</td>\n",
       "    </tr>\n",
       "    <tr>\n",
       "      <th>1</th>\n",
       "      <td>01.02.2015</td>\n",
       "      <td>1.580759e+07</td>\n",
       "      <td>11636.0</td>\n",
       "      <td>1358.507000</td>\n",
       "      <td>30024676.0</td>\n",
       "    </tr>\n",
       "    <tr>\n",
       "      <th>2</th>\n",
       "      <td>01.03.2015</td>\n",
       "      <td>2.204715e+07</td>\n",
       "      <td>15922.0</td>\n",
       "      <td>1384.697024</td>\n",
       "      <td>30024676.0</td>\n",
       "    </tr>\n",
       "    <tr>\n",
       "      <th>3</th>\n",
       "      <td>01.04.2015</td>\n",
       "      <td>1.881458e+07</td>\n",
       "      <td>15227.0</td>\n",
       "      <td>1235.606705</td>\n",
       "      <td>30024676.0</td>\n",
       "    </tr>\n",
       "    <tr>\n",
       "      <th>4</th>\n",
       "      <td>01.05.2015</td>\n",
       "      <td>1.402148e+07</td>\n",
       "      <td>8620.0</td>\n",
       "      <td>1626.621765</td>\n",
       "      <td>30024676.0</td>\n",
       "    </tr>\n",
       "  </tbody>\n",
       "</table>\n",
       "</div>"
      ],
      "text/plain": [
       "       Period       Revenue  Sales_quantity  Average_cost  \\\n",
       "0  01.01.2015  1.601007e+07         12729.0   1257.763541   \n",
       "1  01.02.2015  1.580759e+07         11636.0   1358.507000   \n",
       "2  01.03.2015  2.204715e+07         15922.0   1384.697024   \n",
       "3  01.04.2015  1.881458e+07         15227.0   1235.606705   \n",
       "4  01.05.2015  1.402148e+07          8620.0   1626.621765   \n",
       "\n",
       "   The_average_annual_payroll_of_the_region  \n",
       "0                                30024676.0  \n",
       "1                                30024676.0  \n",
       "2                                30024676.0  \n",
       "3                                30024676.0  \n",
       "4                                30024676.0  "
      ]
     },
     "execution_count": 3,
     "metadata": {},
     "output_type": "execute_result"
    }
   ],
   "source": [
    "#Reading the dataset\n",
    "import pandas as pd\n",
    "data = pd.read_csv('Month_Value_1.csv')\n",
    "data.head()"
   ]
  },
  {
   "cell_type": "code",
   "execution_count": 5,
   "metadata": {},
   "outputs": [
    {
     "data": {
      "text/plain": [
       "(96, 5)"
      ]
     },
     "execution_count": 5,
     "metadata": {},
     "output_type": "execute_result"
    }
   ],
   "source": [
    "data.shape"
   ]
  },
  {
   "cell_type": "code",
   "execution_count": 6,
   "metadata": {},
   "outputs": [
    {
     "data": {
      "text/plain": [
       "<matplotlib.axes._subplots.AxesSubplot at 0x16852b41700>"
      ]
     },
     "execution_count": 6,
     "metadata": {},
     "output_type": "execute_result"
    },
    {
     "data": {
      "image/png": "[encoded data removed]",
      "text/plain": [
       "<Figure size 432x288 with 1 Axes>"
      ]
     },
     "metadata": {
      "needs_background": "light"
     },
     "output_type": "display_data"
    }
   ],
   "source": [
    "data.plot.line(x=None,y=None)"
   ]
  },
  {
   "cell_type": "markdown",
   "metadata": {},
   "source": [
    "This contains all the data from 5 columns. So it doesn’t give an exact view. So\n",
    "\n",
    "Let us clean the dataset. \n",
    "\n",
    "We can analyze the time series of revenue from 2015 to 2020 and drop all other columns now."
   ]
  },
  {
   "cell_type": "code",
   "execution_count": 7,
   "metadata": {},
   "outputs": [],
   "source": [
    "data = data.drop('Sales_quantity', 1)\n",
    "data = data.drop('Average_cost', 1)\n",
    "data = data.drop('The_average_annual_payroll_of_the_region', 1)"
   ]
  },
  {
   "cell_type": "code",
   "execution_count": 8,
   "metadata": {},
   "outputs": [
    {
     "data": {
      "text/plain": [
       "<matplotlib.axes._subplots.AxesSubplot at 0x16852bfe550>"
      ]
     },
     "execution_count": 8,
     "metadata": {},
     "output_type": "execute_result"
    },
    {
     "data": {
      "image/png": "[encoded data removed]",
      "text/plain": [
       "<Figure size 432x288 with 1 Axes>"
      ]
     },
     "metadata": {
      "needs_background": "light"
     },
     "output_type": "display_data"
    }
   ],
   "source": [
    "data.plot.line(x=None,y=None)"
   ]
  },
  {
   "cell_type": "markdown",
   "metadata": {},
   "source": [
    "Ref: \n",
    "\n",
    "* __[Time Series Analysis WebSite](https://www.analyticsvidhya.com/blog/2021/06/time-series-analysis-a-comprehensive-guide) (Website)__"
   ]
  }
 ],
 "metadata": {
  "kernelspec": {
   "display_name": "Python 3",
   "language": "python",
   "name": "python3"
  },
  "language_info": {
   "codemirror_mode": {
    "name": "ipython",
    "version": 3
   },
   "file_extension": ".py",
   "mimetype": "text/x-python",
   "name": "python",
   "nbconvert_exporter": "python",
   "pygments_lexer": "ipython3",
   "version": "3.8.3"
  }
 },
 "nbformat": 4,
 "nbformat_minor": 4
}
