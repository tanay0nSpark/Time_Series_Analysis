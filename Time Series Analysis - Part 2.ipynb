{
 "cells": [
  {
   "cell_type": "markdown",
   "metadata": {},
   "source": [
    "Ref: https://www.analyticsvidhya.com/blog/2021/10/a-comprehensive-guide-to-time-series-analysis/#h2_11"
   ]
  },
  {
   "cell_type": "markdown",
   "metadata": {},
   "source": [
    "# Time Series Analysis - Part 2"
   ]
  },
  {
   "cell_type": "markdown",
   "metadata": {},
   "source": [
    "* Table of contents\n",
    "    * Synopsis of Time Series Analysis\n",
    "    * Introduction to Time Series Analysis\n",
    "    * What is Time Series Analysis\n",
    "    * How to analyze Time Series?\n",
    "    * Significance of Time Series and its types\n",
    "    * Components of Time Series Analysis\n",
    "    * What are the limitations of Time Series Analysis?\n",
    "    * Data Types of Time Series\n",
    "    * Methods to check Stationarity \n",
    "    * Converting Non- stationary into stationary\n",
    "    * Moving Average Methodology\n",
    "    * Time Series Analysis in Data Science and Machine Learning\n",
    "    * Implementation of Auto-Regressive model\n",
    "    * Implementation of Moving Average (WEIGHTS – SIMPLE MOVING AVERAGE)\n",
    "    * Understanding ARMA and ARIMA \n",
    "    * Implementation steps for ARIMA\n",
    "    * Process flow (Re-gap)"
   ]
  },
  {
   "cell_type": "markdown",
   "metadata": {},
   "source": [
    "## Synopsis of Time Series Analysis\n",
    " * A Time-Series represents a series of time-based orders. It would be Years, Months, Weeks, Days, Horus, Minutes, and Seconds\n",
    " * A time series is an observation from the sequence of discrete-time of successive intervals.\n",
    " * A time series is a running chart.\n",
    " * The time variable/feature is the independent variable and supports the target variable to predict the results.\n",
    " * Time Series Analysis (TSA) is used in different fields for time-based predictions – like Weather Forecasting, Financial, Signal processing, Engineering domain – Control Systems, Communications Systems.\n",
    " * Since TSA involves producing the set of information in a particular sequence, it makes a distinct from spatial and other analyses.\n",
    " * Using AR, MA, ARMA, and ARIMA models, we could predict the future."
   ]
  },
  {
   "cell_type": "markdown",
   "metadata": {},
   "source": [
    "Time Series Analysis is the way of studying the characteristics of the response variable with respect to time, as the independent variable. To estimate the target variable in the name of predicting or forecasting, use the time variable as the point of reference. In this article we will discuss in detail TSA Objectives, Assumptions, Components (stationary, and Non- stationary). Along with the TSA algorithm and specific use cases in Python."
   ]
  },
  {
   "cell_type": "markdown",
   "metadata": {},
   "source": [
    "## What is Time Series Analysis\n",
    "\n",
    "**Definition:** If you see, there are many more definitions for TSA. But make it simple.\n",
    "\n",
    "***A time series is nothing but a sequence of various data points that occurred in a successive order for a given period of time***\n",
    "\n",
    "**Objectives:**\n",
    "   - To understand how time series works, what factors are affecting a certain variable(s) at different points of time.\n",
    "   - Time series analysis will provide the consequences and insights of features of the given dataset that changes over time.\n",
    "   - Supporting to derive the predicting the future values of the time series variable.\n",
    "   - Assumptions: There is one and the only assumption that is “stationary”, which means that the origin of time, does not affect the properties of the process under the statistical factor."
   ]
  },
  {
   "cell_type": "markdown",
   "metadata": {},
   "source": [
    "## How to analyze Time Series?\n",
    "\n",
    "Quick steps here for your reference, anyway. Will see this in detail in this article later.\n",
    "* Collecting the data and cleaning it\n",
    "* Preparing Visualization with respect to time vs key feature\n",
    "* Observing the stationarity of the series\n",
    "* Developing charts to understand its nature.\n",
    "* Model building – AR, MA, ARMA and ARIMA\n",
    "* Extracting insights from prediction"
   ]
  },
  {
   "cell_type": "markdown",
   "metadata": {},
   "source": [
    "## Significance of Time Series and its types\n",
    "\n",
    "TSA is the backbone for prediction and forecasting analysis, specific to the time-based problem statements.\n",
    "* Analyzing the historical dataset and its patterns\n",
    "* Understanding and matching the current situation with patterns derived from the previous stage.\n",
    "* Understanding the factor or factors influencing certain variable(s) in different periods.\n",
    "* With help of “Time Series” we can prepare numerous time-based analyses and results.\n",
    "* Forecasting\n",
    "* Segmentation\n",
    "* Classification\n",
    "* Descriptive analysis\n",
    "* Intervention analysis"
   ]
  },
  {
   "cell_type": "markdown",
   "metadata": {},
   "source": [
    "## Components of Time Series Analysis\n",
    "\n",
    "- **Trend:**    In which there is no fixed interval and any divergence within the given dataset is a continuous timeline. The trend would be Negative or Positive or Null Trend\n",
    "- **Seasonality:** In which regular or fixed interval shifts within the dataset in a continuous timeline. Would be bell curve or saw tooth\n",
    "- **Cyclical:** In which there is no fixed interval, uncertainty in movement and its pattern\n",
    "- **Irregularity:** Unexpected situations/events/scenarios and spikes in a short time span.\n",
    "\n",
    "![CTSA](https://editor.analyticsvidhya.com/uploads/39815Components%20of%20Time%20Series%20Analysis.png)"
   ]
  },
  {
   "cell_type": "markdown",
   "metadata": {},
   "source": [
    "## What are the limitations of Time Series Analysis?\n",
    "Time series has the below-mentioned limitations, we have to take care of those during our analysis,\n",
    "* Similar to other models, the missing values are not supported by TSA\n",
    "* The data points must be linear in their relationship.\n",
    "* Data transformations are mandatory, so a little expensive.\n",
    "* Models mostly work on Uni-variate data."
   ]
  },
  {
   "cell_type": "markdown",
   "metadata": {},
   "source": [
    "## Data Types of Time Series\n",
    "\n",
    "Let’s discuss the time series’ data types and their influence. While discussing TS data-types, there are two major types.\n",
    "* Stationary\n",
    "* Non- Stationary\n",
    "\n",
    "**Stationary:** A dataset should follow the below thumb rules, without having Trend, Seasonality, Cyclical, and Irregularity component of time series\n",
    "\n",
    "- The MEAN value of them should be completely constant in the data during the analysis\n",
    "- The VARIANCE should be constant with respect to the time-frame\n",
    "- The COVARIANCE measures the relationship between two variables.\n",
    "\n",
    "**Non- Stationary:** This is just the opposite of Stationary.\n",
    "\n",
    "![data_type](https://editor.analyticsvidhya.com/uploads/99388Stationary%20Vs%20Non-Stationary.png)"
   ]
  },
  {
   "cell_type": "markdown",
   "metadata": {},
   "source": [
    "## Methods to check Stationarity \n",
    "\n",
    "During the TSA model preparation workflow, we must access if the given dataset is Stationary or NOT. Using **Statistical and Plots test.**\n",
    "\n",
    "**1 Statistical Test:** There are two tests available to test if the dataset is Stationary or NOT.\n",
    "* Augmented Dickey-Fuller (ADF) Test\n",
    "* Kwiatkowski-Phillips-Schmidt-Shin (KPSS) Test\n",
    "\n",
    "1.1 *Augmented Dickey-Fuller (ADF) Test or Unit Root Test:* The ADF test is the most popular statistical test and with the following assumptions.\n",
    "\n",
    "-  Null Hypothesis (H0): Series is non-stationary\n",
    "-  Alternate Hypothesis (HA): Series is stationary\n",
    "    - p-value >0.05 Fail to reject (H0)\n",
    "    - p-value <= 0.05 Accept (H1)\n",
    "    \n",
    "1.2 *Kwiatkowski–Phillips–Schmidt–Shin (KPSS):* \n",
    "\n",
    "- these tests are used for testing a NULL Hypothesis (HO), \n",
    "- that will perceive the time-series, as stationary around a deterministic trend against the alternative of a unit root. \n",
    "- Since TSA looking for Stationary Data for its further analysis, we have to make sure that the dataset should be stationary."
   ]
  },
  {
   "cell_type": "markdown",
   "metadata": {},
   "source": [
    "## Converting Non- stationary into stationary\n",
    "\n",
    "Let’s discuss quickly how to convert Non- stationary into stationary for effective time series modeling. There are two major methods available for this conversion.\n",
    "\n",
    "* Detrending\n",
    "* Differencing\n",
    "* Transformation\n",
    "\n",
    "**Detrending:** It involves removing the trend effects from the given dataset and showing only the differences in values from the trend. it always allows the cyclical patterns to be identified.\n",
    "\n",
    "![Detrending](https://editor.analyticsvidhya.com/uploads/26672Detrending.png)\n",
    "\n",
    "**Differencing:** This is a simple transformation of the series into a new time series, which we use to remove the series dependence on time and stabilize the mean of the time series, so trend and seasonality are reduced during this transformation.\n",
    "\n",
    "                    Yt= Yt – Yt-1\n",
    "                    Yt=Value with time\n",
    "                    \n",
    "![dnd](https://editor.analyticsvidhya.com/uploads/98810Converting%20Non-%20Stationarity%20data%20into%20Stationarity.png)\n",
    "\n",
    "**Transformation:** This includes three different methods they are Power Transform, Square Root, and Log Transfer., most commonly used one is Log Transfer."
   ]
  },
  {
   "cell_type": "markdown",
   "metadata": {},
   "source": [
    "## Moving Average Methodology\n",
    "\n",
    "The commonly used time series method is Moving Average. This method is slick with random short-term variations. Relatively associated with the components of time series.\n",
    "\n",
    "**The Moving Average (MA) (Or) Rolling Mean:** In which MA has calculated by taking averaging data of the time-series, within k periods.The types of moving averages:\n",
    "\n",
    "* Simple Moving Average (SMA),\n",
    "* Cumulative Moving Average (CMA)\n",
    "* Exponential Moving Average (EMA)\n",
    "\n",
    "\n",
    "**1. Simple Moving Average (SMA)**\n",
    "The SMA is the unweighted mean of the previous M or N points. The selection of sliding window data points, depending on the amount of smoothing is preferred since increasing the value of M or N, improves the smoothing at the expense of accuracy.\n",
    "\n",
    "![SMA](https://editor.analyticsvidhya.com/uploads/27331SMA.png)\n",
    "\n",
    "To understand better, will use the Air-Temperature."
   ]
  },
  {
   "cell_type": "markdown",
   "metadata": {},
   "source": [
    "     import pandas as pd\n",
    "     from matplotlib import pyplot as plt\n",
    "     from statsmodels.graphics.tsaplots import plot_acf\n",
    "     df_temperature = pd.read_csv('temperature_TSA.csv', encoding='utf-8')\n",
    "     df_temperature.head()\n",
    "     \n",
    "![Air_head](https://editor.analyticsvidhya.com/uploads/74955Air_head.png)\n",
    "     \n",
    "     df_temperature.info()\n",
    "     \n",
    "![Air_info](https://editor.analyticsvidhya.com/uploads/16377Air_info.png)\n",
    "\n",
    "     # set index for year column\n",
    "     df_temperature.set_index('Any', inplace=True)\n",
    "     df_temperature.index.name = 'year'\n",
    "     # Yearly average air temperature - calculation\n",
    "     df_temperature['average_temperature'] = df_temperature.mean(axis=1)\n",
    "     # drop unwanted columns and resetting the datafreame\n",
    "     df_temperature = df_temperature[['average_temperature']]\n",
    "     df_temperature.head()\n",
    "     \n",
    "![Air_avg](https://editor.analyticsvidhya.com/uploads/91198Air_avg.png)\n",
    "\n",
    "     # SMA over a period of 10 and 20 years \n",
    "     df_temperature['SMA_10'] = df_temperature.average_temperature.rolling(10, min_periods=1).mean()\n",
    "     df_temperature['SMA_20'] = df_temperature.average_temperature.rolling(20, min_periods=1).mean()\n",
    "     \n",
    "     # Grean = Avg Air Temp, RED = 10 yrs, ORANG colors for the line plot\n",
    "     colors = ['green', 'red', 'orange']\n",
    "     # Line plot \n",
    "     df_temperature.plot(color=colors, linewidth=3, figsize=(12,6))\n",
    "     plt.xticks(fontsize=14)\n",
    "     plt.yticks(fontsize=14)\n",
    "     plt.legend(labels =['Average air temperature', '10-years SMA', '20-years SMA'], fontsize=14)\n",
    "     plt.title('The yearly average air temperature in city', fontsize=20)\n",
    "     plt.xlabel('Year', fontsize=16)\n",
    "     plt.ylabel('Temperature [°C]', fontsize=16)\n",
    "     \n",
    "![Air_graph](https://editor.analyticsvidhya.com/uploads/17974SMA%20over%20a%20period%20of%2010%20and%2020%20years.png)"
   ]
  },
  {
   "cell_type": "markdown",
   "metadata": {},
   "source": [
    "**2 Cumulative Moving Average (CMA)** : The CMA is the unweighted mean of past values, till the current time.\n",
    "\n",
    "![16788CMA](https://editor.analyticsvidhya.com/uploads/16788CMA.png)\n",
    "\n",
    "    # CMA Air temperature\n",
    "    df_temperature['CMA'] = df_temperature.average_temperature.expanding().mean()\n",
    "    \n",
    "    # green -Avg Air Temp and Orange -CMA\n",
    "    colors = ['green', 'orange']\n",
    "    # line plot\n",
    "    df_temperature[['average_temperature', 'CMA']].plot(color=colors, linewidth=3, figsize=(12,6))\n",
    "    plt.xticks(fontsize=14)\n",
    "    plt.yticks(fontsize=14)\n",
    "    plt.legend(labels =['Average Air Temperature', 'CMA'], fontsize=14)\n",
    "    plt.title('The yearly average air temperature in city', fontsize=20)\n",
    "    plt.xlabel('Year', fontsize=16)\n",
    "    plt.ylabel('Temperature [°C]', fontsize=16)\n",
    "    \n",
    "![CMA-visi](https://editor.analyticsvidhya.com/uploads/40978CMA-visi.png)"
   ]
  },
  {
   "attachments": {},
   "cell_type": "markdown",
   "metadata": {},
   "source": [
    "**3 Exponential Moving Average (EMA)**\n",
    "\n",
    "EMA is mainly used to identify trends and to filter out noise. The weight of elements is decreased gradually over time. This means It gives weight to recent data points, not historical ones. Compared with SMA, the EMA is faster to change and more sensitive.\n",
    "\n",
    "α –>Smoothing Factor.\n",
    "\n",
    "* It has a value between 0,1.\n",
    "* Represents the weighting applied to the very recent period.\n",
    "\n",
    "Lets will apply the exponential moving averages with a smoothing factor of 0.1 and 0.3 in the given dataset.\n",
    "\n",
    "![81657EMA](https://editor.analyticsvidhya.com/uploads/81657EMA.png)\n",
    "\n",
    "    # EMA Air Temperature\n",
    "    # Let's smoothing factor - 0.1\n",
    "    df_temperature['EMA_0.1'] = df_temperature.average_temperature.ewm(alpha=0.1, adjust=False).mean()\n",
    "    # Let's smoothing factor  - 0.3\n",
    "    df_temperature['EMA_0.3'] = df_temperature.average_temperature.ewm(alpha=0.3, adjust=False).mean()\n",
    "    \n",
    "    # green - Avg Air Temp, red- smoothing factor - 0.1, yellow - smoothing factor  - 0.3\n",
    "    colors = ['green', 'red', 'yellow']\n",
    "    df_temperature[['average_temperature', 'EMA_0.1', 'EMA_0.3']].plot(color=colors, linewidth=3, figsize=(12,6), alpha=0.8)\n",
    "    plt.xticks(fontsize=14)\n",
    "    plt.yticks(fontsize=14)\n",
    "    plt.legend(labels=['Average air temperature', 'EMA - alpha=0.1', 'EMA - alpha=0.3'], fontsize=14)\n",
    "    plt.title('The yearly average air temperature in city', fontsize=20)\n",
    "    plt.xlabel('Year', fontsize=16)\n",
    "    plt.ylabel('Temperature [°C]', fontsize=16)\n",
    "    \n",
    "![EMA-visi](https://editor.analyticsvidhya.com/uploads/41322EMA-visi.png)"
   ]
  },
  {
   "cell_type": "markdown",
   "metadata": {},
   "source": [
    "## Time Series Analysis in Data Science and Machine Learning\n",
    "\n",
    "When dealing with TSA in Data Science and Machine Learning, there are multiple model options are available. In which the Autoregressive–Moving-Average (ARMA) models with [p, d, and q].\n",
    "\n",
    "* P==> autoregressive lags\n",
    "* q== moving average lags\n",
    "* d==> difference in the order\n",
    "\n",
    "Before we get to know about Arima, first you should understand the below terms better.\n",
    "\n",
    "* Auto-Correlation Function (ACF)\n",
    "* Partial Auto-Correlation Function (PACF)\n",
    "\n",
    "**1 Auto-Correlation Function (ACF):** ACF is used to indicate and how similar a value is within a given time series and the previous value. (OR) It measures the degree of the similarity between a given time series and the lagged version of that time series at different intervals that we observed.\n",
    "\n",
    "Python Statsmodels library calculates autocorrelation. This is used to identify a set of trends in the given dataset and the influence of former observed values on the currently observed values.\n",
    "\n",
    "\n",
    "**2 Partial Auto-Correlation (PACF):** PACF is similar to Auto-Correlation Function and is a little challenging to understand. It always shows the correlation of the sequence with itself with some number of time units per sequence order in which only the direct effect has been shown, and all other intermediary effects are removed from the given time series.\n",
    "\n",
    "    plot_acf(df_temperature)\n",
    "    plt.show()\n",
    "    \n",
    "    plot_acf(df_temperature, lags=30)\n",
    "    plt.show()\n",
    "    \n",
    "![acf_pacf](https://editor.analyticsvidhya.com/uploads/41503Auto-correlation%20and%20Partial%20Auto-Correlation.png)\n",
    "\n",
    "**Observation:** The previous temperature influences the current temperature, but the significance of that influence decreases and slightly increases from the above visualization along with the temperature with regular time intervals."
   ]
  },
  {
   "attachments": {
    "image.png": {
     "image/png": "[encoded data removed]"
    }
   },
   "cell_type": "markdown",
   "metadata": {},
   "source": [
    "**3 Types of Auto-correlation**\n",
    "\n",
    "![Types_of_AR](https://editor.analyticsvidhya.com/uploads/16336Types%20of%20AR.png)\n",
    "\n",
    "10.4 Interpret ACF and PACF plots\n",
    "\n",
    "![image.png](attachment:image.png)"
   ]
  },
  {
   "cell_type": "markdown",
   "metadata": {},
   "source": [
    "Now, we learn about the **Auto-Regressive model**\n",
    "This is a simple model, that predicts future performance based on past performance. mainly used for forecasting, when there is some correlation between values in a given time series and the values that precede and succeed (back and forth).\n",
    "An AR model is a Linear Regression model, that uses lagged variables as input. The Linear Regression model can be easily built using the scikit-learn library by indicating the input to use. Statsmodels library is used to provide autoregression model-specific functions where you have to specify an appropriate lag value and train the model. It is provided in the AutoTeg class to get the results, using simple steps\n",
    "* Creating the model AutoReg()\n",
    "* Call fit() to train it on our dataset.\n",
    "* Returns an AutoRegResults object.\n",
    "* Once fit,  make a prediction by calling the predict () function\n",
    "The equation for the AR model (Let’s compare Y=mX+c)\n",
    "\n",
    "Yt =C+b1 Yt-1+ b2 Yt-2+……+ bp Yt-p+ Ert\n",
    "\n",
    "Key Parameters\n",
    "\n",
    "    p=past values\n",
    "    Yt=Function of different past values\n",
    "    Ert=errors in time\n",
    "    C=intercept\n",
    "Lets’s check, given data-set or time series is random or not"
   ]
  },
  {
   "cell_type": "markdown",
   "metadata": {},
   "source": [
    "    from matplotlib import pyplot\n",
    "    from pandas.plotting import lag_plot\n",
    "    lag_plot(df_temperature)\n",
    "    pyplot.show()\n",
    "    \n",
    "![58475loagplot](https://editor.analyticsvidhya.com/uploads/58475loagplot.png)\n",
    "\n",
    "**Observation:** Yes, looks random and scattered."
   ]
  },
  {
   "cell_type": "markdown",
   "metadata": {},
   "source": [
    "## Implementation of Auto-Regressive model\n",
    "\n",
    "    #import libraries\n",
    "    from matplotlib import pyplot\n",
    "    from statsmodels.tsa.ar_model import AutoReg\n",
    "    from sklearn.metrics import mean_squared_error\n",
    "    from math import sqrt\n",
    "    # load csv as dataset\n",
    "    #series = read_csv('daily-min-temperatures.csv', header=0, index_col=0, parse_dates=True, squeeze=True)\n",
    "    # split dataset for test and training\n",
    "    X = df_temperature.values\n",
    "    train, test = X[1:len(X)-7], X[len(X)-7:]\n",
    "    # train autoregression\n",
    "    model = AutoReg(train, lags=20)\n",
    "    model_fit = model.fit()\n",
    "    print('Coefficients: %s' % model_fit.params)\n",
    "    # Predictions\n",
    "    predictions = model_fit.predict(start=len(train), end=len(train)+len(test)-1, dynamic=False)\n",
    "    for i in range(len(predictions)):\n",
    "        print('predicted=%f, expected=%f' % (predictions[i], test[i]))\n",
    "    rmse = sqrt(mean_squared_error(test, predictions))\n",
    "    print('Test RMSE: %.3f' % rmse)\n",
    "    # plot results\n",
    "    pyplot.plot(test)\n",
    "    pyplot.plot(predictions, color='red')\n",
    "    pyplot.show()\n",
    "    \n",
    " **OUTPUT**\n",
    " \n",
    "    predicted=15.893972, expected=16.275000\n",
    "    predicted=15.917959, expected=16.600000\n",
    "    predicted=15.812741, expected=16.475000\n",
    "    predicted=15.787555, expected=16.375000\n",
    "    predicted=16.023780, expected=16.283333\n",
    "    predicted=15.940271, expected=16.525000\n",
    "    predicted=15.831538, expected=16.758333\n",
    "    Test RMSE: 0.617\n",
    "    \n",
    "![output](https://editor.analyticsvidhya.com/uploads/22958Auto-Reg.png)\n",
    "\n",
    "**Observation:** Expected (blue) Against Predicted (red). The forecast looks good on the 4th and the deviation on the 6th day."
   ]
  },
  {
   "attachments": {},
   "cell_type": "markdown",
   "metadata": {},
   "source": [
    "## Implementation of Moving Average (WEIGHTS – SIMPLE MOVING AVERAGE)\n",
    "\n",
    "    import numpy as np\n",
    "    alpha= 0.3\n",
    "    n = 10\n",
    "    w_sma = np.repeat(1/n, n)\n",
    "    colors = ['green', 'yellow']\n",
    "    # weights - exponential moving average alpha=0.3 adjust=False\n",
    "    w_ema = [(1-ALPHA)**i if i==N-1 else alpha*(1-alpha)**i for i in range(n)]\n",
    "    pd.DataFrame({'w_sma': w_sma, 'w_ema': w_ema}).plot(color=colors, kind='bar', figsize=(8,5))\n",
    "    plt.xticks([])\n",
    "    plt.yticks(fontsize=10)\n",
    "    plt.legend(labels=['Simple moving average', 'Exponential moving average (α=0.3)'], fontsize=10)\n",
    "    # title and labels\n",
    "    plt.title('Moving Average Weights', fontsize=10)\n",
    "    plt.ylabel('Weights', fontsize=10)\n",
    "    \n",
    "    \n",
    "![MAV](https://editor.analyticsvidhya.com/uploads/21780MAV.png)"
   ]
  },
  {
   "cell_type": "markdown",
   "metadata": {},
   "source": [
    "## Understanding ARMA and ARIMA\n",
    "\n",
    "**ARMA** This is a combination of the Auto-Regressive and Moving Average model for forecasting. This model provides a weakly stationary stochastic process in terms of two polynomials, one for the Auto-Regressive and the second for the Moving Average.\n",
    "\n",
    "![arma_form](https://editor.analyticsvidhya.com/uploads/36065ARMA%20-formula.png)\n",
    "\n",
    "**ARMA** is best for predicting stationary series. So ARIMA came in since it supports stationary as well as non-stationary.\n",
    "\n",
    "![ARIMA](https://editor.analyticsvidhya.com/uploads/66817ARIMA.png)\n",
    "\n",
    "    AR ==> Uses the past values to predict the future\n",
    "    MA ==> Uses the past error terms in the given series to predict the future\n",
    "    I==> uses the differencing of observation and makes the stationary data\n",
    "\n",
    "AR+I+MA= ARIMA\n",
    "\n",
    "Understand the Signature of ARIMA\n",
    "\n",
    "    p==> log order => No of lag observations.\n",
    "    d==> degree of differencing => No of times that the raw observations are differenced.\n",
    "    q==>order of moving average => the size of the moving average window"
   ]
  },
  {
   "cell_type": "markdown",
   "metadata": {},
   "source": [
    "Implementation steps for ARIMA\n",
    "\n",
    "    Step 1: Plot a time series format\n",
    "    Step 2: Difference to make stationary on mean by removing the trend\n",
    "    Step 3: Make stationary by applying log transform.\n",
    "    Step 4: Difference log transform to make as stationary on both statistic mean and variance\n",
    "    Step 5: Plot ACF & PACF, and identify the potential AR and MA model\n",
    "    Step 6: Discovery of best fit ARIMA model\n",
    "    Step 7: Forecast/Predict the value, using the best fit ARIMA model\n",
    "    Step 8: Plot ACF & PACF for residuals of the ARIMA model, and ensure no more information is left.\n",
    "\n",
    "Implementation of ARIMA\n",
    "\n",
    "Already we have discussed steps 1-5, let’s focus on the rest here."
   ]
  },
  {
   "cell_type": "markdown",
   "metadata": {},
   "source": [
    "    from statsmodels.tsa.arima_model import ARIMA\n",
    "    model = ARIMA(df_temperature, order=(0, 1, 1)) \n",
    "    results_ARIMA = model.fit()\n",
    "    \n",
    "    results_ARIMA.summary()\n",
    "\n",
    "![ARIMA-outcome](https://editor.analyticsvidhya.com/uploads/99439ARIMA-outcome.png)\n",
    "\n",
    "    results_ARIMA.forecast(3)[0]\n",
    "    \n",
    "**Output**\n",
    "    \n",
    "    array([16.47648941, 16.48621826, 16.49594711])\n",
    "    \n",
    "    results_ARIMA.plot_predict(start=200)\n",
    "    plt.show()\n",
    "    \n",
    "![act_pre](https://editor.analyticsvidhya.com/uploads/22136actuals%20vs%20predited.png)"
   ]
  },
  {
   "cell_type": "markdown",
   "metadata": {},
   "source": [
    "## Process flow\n",
    "\n",
    "![workflow](https://editor.analyticsvidhya.com/uploads/68265TSA-workflow.png)"
   ]
  },
  {
   "cell_type": "markdown",
   "metadata": {},
   "source": [
    "In recent years, the use of Deep Learning for Time Series Analysis and Forecasting has been increased to resolve the problem statements, where we couldn’t be handled using Machine Learning techniques. Let’s discuss briefly."
   ]
  },
  {
   "cell_type": "markdown",
   "metadata": {},
   "source": [
    "![DP-TSA](https://editor.analyticsvidhya.com/uploads/18979DP-TSA.png)\n",
    "\n",
    "**Recurrent Neural Networks** is the most traditional and accepted architecture, fitment for Time-Series forecasting based problems.\n",
    "\n",
    "RNN is organized into successive layers and divided into\n",
    "\n",
    "* Input\n",
    "* Hidden\n",
    "* Output\n",
    "\n",
    "Each layer has equal weight and every neuron has to be assigned to fixed time steps. And remember that every one of them is fully connected with a hidden layer (Input and Output) with the same time steps and the hidden layers are forwarded and time-dependent in direction.\n",
    "\n",
    "![rnn](https://editor.analyticsvidhya.com/uploads/63175RNN.png)\n",
    "\n",
    "Components of RNN\n",
    "\n",
    "* Input: The function vector of x(t)​ is the input, at time step t.\n",
    "* Hidden:\n",
    "    * The function vector h(t)​ is the hidden-state at time t,\n",
    "    * This is a kind of memory of the established network;\n",
    "    * This has been calculated based on the current input x(t) and the previous-time step’s hidden-state h(t-1):\n",
    "* Output: The function vector y(t) ​is the output, at time step t.\n",
    "* Weights : Weights: In the RNNs, the input vector-connected to the hidden layer neurons at time t is by a weight matrix of U (Please refer to the above picture), \n",
    "\n",
    "\n",
    "Internally weight matrix W is formed by the hidden layer neurons of time t-1 and t+1. followed by this the hidden-layer with to the output vector y(t) of time t by a V (weight matrix); all the weight matrices U, W, and V are constant for each time step."
   ]
  },
  {
   "cell_type": "markdown",
   "metadata": {},
   "source": [
    "Advantages :\t\n",
    "* It has the special feature that it would remember every each information, so RNN is much useful for time series prediction\n",
    "* Perfect for creating complex patterns from the input time series dataset.\n",
    "* Fast in prediction/forecasting\t\n",
    "* Not affected by missing values, so the cleansing process can be limited\t\n",
    "\n",
    "Disadvantages :\n",
    "* The big challenge is during the training period.\n",
    "* Expensive computation cost\n"
   ]
  },
  {
   "cell_type": "code",
   "execution_count": null,
   "metadata": {},
   "outputs": [],
   "source": []
  }
 ],
 "metadata": {
  "kernelspec": {
   "display_name": "Python 3",
   "language": "python",
   "name": "python3"
  },
  "language_info": {
   "codemirror_mode": {
    "name": "ipython",
    "version": 3
   },
   "file_extension": ".py",
   "mimetype": "text/x-python",
   "name": "python",
   "nbconvert_exporter": "python",
   "pygments_lexer": "ipython3",
   "version": "3.8.3"
  }
 },
 "nbformat": 4,
 "nbformat_minor": 4
}
