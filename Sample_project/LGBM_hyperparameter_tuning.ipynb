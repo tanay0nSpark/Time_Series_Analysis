{
  "nbformat": 4,
  "nbformat_minor": 0,
  "metadata": {
    "colab": {
      "name": "LGBM_hyperparameter_tuning.ipynb",
      "provenance": [],
      "collapsed_sections": []
    },
    "kernelspec": {
      "name": "python3",
      "display_name": "Python 3"
    },
    "language_info": {
      "name": "python"
    }
  },
  "cells": [
    {
      "cell_type": "code",
      "source": [
        "! pip install kaggle"
      ],
      "metadata": {
        "id": "0L_uFYLeLKtz",
        "colab": {
          "base_uri": "https://localhost:8080/"
        },
        "outputId": "acf7eaad-bf4c-49fd-8d5a-77ca19947985"
      },
      "execution_count": 1,
      "outputs": [
        {
          "output_type": "stream",
          "name": "stdout",
          "text": [
            "Requirement already satisfied: kaggle in /usr/local/lib/python3.7/dist-packages (1.5.12)\n",
            "Requirement already satisfied: urllib3 in /usr/local/lib/python3.7/dist-packages (from kaggle) (1.24.3)\n",
            "Requirement already satisfied: python-slugify in /usr/local/lib/python3.7/dist-packages (from kaggle) (5.0.2)\n",
            "Requirement already satisfied: six>=1.10 in /usr/local/lib/python3.7/dist-packages (from kaggle) (1.15.0)\n",
            "Requirement already satisfied: python-dateutil in /usr/local/lib/python3.7/dist-packages (from kaggle) (2.8.2)\n",
            "Requirement already satisfied: requests in /usr/local/lib/python3.7/dist-packages (from kaggle) (2.23.0)\n",
            "Requirement already satisfied: tqdm in /usr/local/lib/python3.7/dist-packages (from kaggle) (4.62.3)\n",
            "Requirement already satisfied: certifi in /usr/local/lib/python3.7/dist-packages (from kaggle) (2021.10.8)\n",
            "Requirement already satisfied: text-unidecode>=1.3 in /usr/local/lib/python3.7/dist-packages (from python-slugify->kaggle) (1.3)\n",
            "Requirement already satisfied: chardet<4,>=3.0.2 in /usr/local/lib/python3.7/dist-packages (from requests->kaggle) (3.0.4)\n",
            "Requirement already satisfied: idna<3,>=2.5 in /usr/local/lib/python3.7/dist-packages (from requests->kaggle) (2.10)\n"
          ]
        }
      ]
    },
    {
      "cell_type": "code",
      "execution_count": 2,
      "metadata": {
        "id": "3NY8KIpkJsqH"
      },
      "outputs": [],
      "source": [
        "! cd sample_data;mkdir kaggle"
      ]
    },
    {
      "cell_type": "code",
      "source": [
        "! ls -lrt\n"
      ],
      "metadata": {
        "colab": {
          "base_uri": "https://localhost:8080/"
        },
        "id": "1ktFbcO63qdj",
        "outputId": "26339d70-9c22-4362-8ef4-dca33d9417f5"
      },
      "execution_count": 3,
      "outputs": [
        {
          "output_type": "stream",
          "name": "stdout",
          "text": [
            "total 8\n",
            "drwx------ 5 root root 4096 Jan 26 07:06 drive\n",
            "drwxr-xr-x 1 root root 4096 Jan 26 07:07 sample_data\n"
          ]
        }
      ]
    },
    {
      "cell_type": "code",
      "source": [
        "! chmod 600 /content/sample_data/kaggle/kaggle.json"
      ],
      "metadata": {
        "id": "YpRcE18j3w7T"
      },
      "execution_count": 7,
      "outputs": []
    },
    {
      "cell_type": "code",
      "source": [
        "mkdir /root/.kaggle"
      ],
      "metadata": {
        "id": "ieSWfITx5D4D"
      },
      "execution_count": 5,
      "outputs": []
    },
    {
      "cell_type": "code",
      "source": [
        "cp /content/sample_data/kaggle/kaggle.json /root/.kaggle/"
      ],
      "metadata": {
        "id": "ubveZTRG4-tD"
      },
      "execution_count": 8,
      "outputs": []
    },
    {
      "cell_type": "code",
      "source": [
        "! kaggle competitions download g-research-crypto-forecasting"
      ],
      "metadata": {
        "colab": {
          "base_uri": "https://localhost:8080/"
        },
        "id": "TttciaqF4peB",
        "outputId": "00be0874-affc-4e86-ccfc-64c8de8c63c9"
      },
      "execution_count": 9,
      "outputs": [
        {
          "output_type": "stream",
          "name": "stdout",
          "text": [
            "Warning: Looks like you're using an outdated API Version, please consider updating (server 1.5.12 / client 1.5.4)\n",
            "Downloading __init__.py to /content\n",
            "  0% 0.00/59.0 [00:00<?, ?B/s]\n",
            "100% 59.0/59.0 [00:00<00:00, 48.0kB/s]\n",
            "Downloading competition.cpython-37m-x86_64-linux-gnu.so to /content\n",
            "  0% 0.00/660k [00:00<?, ?B/s]\n",
            "100% 660k/660k [00:00<00:00, 43.2MB/s]\n",
            "Downloading asset_details.csv to /content\n",
            "  0% 0.00/444 [00:00<?, ?B/s]\n",
            "100% 444/444 [00:00<00:00, 417kB/s]\n",
            "Downloading train.csv.zip to /content\n",
            " 99% 1.01G/1.02G [00:37<00:00, 30.1MB/s]\n",
            "100% 1.02G/1.02G [00:38<00:00, 28.8MB/s]\n",
            "Downloading example_sample_submission.csv to /content\n",
            "  0% 0.00/406 [00:00<?, ?B/s]\n",
            "100% 406/406 [00:00<00:00, 419kB/s]\n",
            "Downloading supplemental_train.csv.zip to /content\n",
            " 88% 90.0M/103M [00:00<00:00, 95.5MB/s]\n",
            "100% 103M/103M [00:00<00:00, 118MB/s]  \n",
            "Downloading example_test.csv to /content\n",
            "  0% 0.00/5.78k [00:00<?, ?B/s]\n",
            "100% 5.78k/5.78k [00:00<00:00, 5.04MB/s]\n"
          ]
        }
      ]
    },
    {
      "cell_type": "code",
      "source": [
        "! unzip /content/train.csv.zip"
      ],
      "metadata": {
        "colab": {
          "base_uri": "https://localhost:8080/"
        },
        "id": "V2tG6aJP45lK",
        "outputId": "46efd4f2-aeea-451f-c5c5-bc1812ac6040"
      },
      "execution_count": 10,
      "outputs": [
        {
          "output_type": "stream",
          "name": "stdout",
          "text": [
            "Archive:  /content/train.csv.zip\n",
            "  inflating: train.csv               \n"
          ]
        }
      ]
    },
    {
      "cell_type": "code",
      "source": [
        "import numpy as np\n",
        "import matplotlib.pyplot as plt\n",
        "import pandas as pd\n",
        "from sklearn.model_selection import train_test_split\n",
        "from sklearn.preprocessing import StandardScaler\n",
        "from sklearn.metrics import mean_absolute_error\n",
        "import lightgbm as lgb\n",
        "import pprint\n",
        "RANDOM_STATE = 42"
      ],
      "metadata": {
        "id": "R1nJ94Yw5Y52"
      },
      "execution_count": 11,
      "outputs": []
    },
    {
      "cell_type": "code",
      "source": [
        "crypto_df = pd.read_csv('/content/train.csv')\n",
        "test_df = pd.read_csv('/content/example_test.csv')\n",
        "if True:\n",
        "    crypto_df_train = crypto_df[crypto_df['timestamp'] < test_df['timestamp'].min()]\n",
        "\n",
        "\n"
      ],
      "metadata": {
        "id": "KQ_qh6OS5sZI"
      },
      "execution_count": 12,
      "outputs": []
    },
    {
      "cell_type": "code",
      "source": [
        "crypto_df_train['datetime'] = pd.to_datetime(crypto_df_train['timestamp'], unit='s')\n",
        "crypto_df_train = crypto_df_train.set_index('datetime')\n",
        "crypto_df_train = crypto_df_train[(crypto_df_train.index.year == 2021) & (crypto_df_train.index.month > 5)]\n",
        "crypto_df_train = crypto_df_train.set_index('timestamp')"
      ],
      "metadata": {
        "colab": {
          "base_uri": "https://localhost:8080/"
        },
        "id": "YFbYdF26Njh8",
        "outputId": "aa9294d3-e1e6-4cb9-fc45-6d692493ec7c"
      },
      "execution_count": 13,
      "outputs": [
        {
          "output_type": "stream",
          "name": "stderr",
          "text": [
            "/usr/local/lib/python3.7/dist-packages/ipykernel_launcher.py:1: SettingWithCopyWarning: \n",
            "A value is trying to be set on a copy of a slice from a DataFrame.\n",
            "Try using .loc[row_indexer,col_indexer] = value instead\n",
            "\n",
            "See the caveats in the documentation: https://pandas.pydata.org/pandas-docs/stable/user_guide/indexing.html#returning-a-view-versus-a-copy\n",
            "  \"\"\"Entry point for launching an IPython kernel.\n"
          ]
        }
      ]
    },
    {
      "cell_type": "code",
      "source": [
        "del crypto_df"
      ],
      "metadata": {
        "id": "EMAA2YRCOncU"
      },
      "execution_count": 14,
      "outputs": []
    },
    {
      "cell_type": "code",
      "source": [
        "crypto_df_train.info()"
      ],
      "metadata": {
        "colab": {
          "base_uri": "https://localhost:8080/"
        },
        "id": "7zyCQGMHOtkV",
        "outputId": "5bb96bd6-30bd-48cc-9cb0-816230bbd9df"
      },
      "execution_count": 15,
      "outputs": [
        {
          "output_type": "stream",
          "name": "stdout",
          "text": [
            "<class 'pandas.core.frame.DataFrame'>\n",
            "Int64Index: 241875 entries, 1622505660 to 1623542340\n",
            "Data columns (total 9 columns):\n",
            " #   Column    Non-Null Count   Dtype  \n",
            "---  ------    --------------   -----  \n",
            " 0   Asset_ID  241875 non-null  int64  \n",
            " 1   Count     241875 non-null  float64\n",
            " 2   Open      241875 non-null  float64\n",
            " 3   High      241875 non-null  float64\n",
            " 4   Low       241875 non-null  float64\n",
            " 5   Close     241875 non-null  float64\n",
            " 6   Volume    241875 non-null  float64\n",
            " 7   VWAP      241875 non-null  float64\n",
            " 8   Target    241826 non-null  float64\n",
            "dtypes: float64(8), int64(1)\n",
            "memory usage: 18.5 MB\n"
          ]
        }
      ]
    },
    {
      "cell_type": "code",
      "source": [
        "Test.index.min()"
      ],
      "metadata": {
        "colab": {
          "base_uri": "https://localhost:8080/"
        },
        "id": "BoPwl2E4PEnn",
        "outputId": "b90f39e2-64f1-48de-a4e6-6fe7b0fc13f0"
      },
      "execution_count": 17,
      "outputs": [
        {
          "output_type": "execute_result",
          "data": {
            "text/plain": [
              "1623541500"
            ]
          },
          "metadata": {},
          "execution_count": 17
        }
      ]
    },
    {
      "cell_type": "code",
      "source": [
        "Test = crypto_df_train.iloc[-200:]\n",
        "Train = crypto_df_train[crypto_df_train.index < Test.index.min()]"
      ],
      "metadata": {
        "id": "v7WNzB8jGpIy"
      },
      "execution_count": 18,
      "outputs": []
    },
    {
      "cell_type": "code",
      "source": [
        "# Two new features from the competition tutorial\n",
        "def upper_shadow(df):\n",
        "    return df['High'] - np.maximum(df['Close'], df['Open'])\n",
        "\n",
        "def lower_shadow(df):\n",
        "    return np.minimum(df['Close'], df['Open']) - df['Low']\n",
        "\n",
        "# A utility function to build features from the original df\n",
        "# It works for rows to, so we can reutilize it.\n",
        "def get_features(df):\n",
        "    df_feat = df[['Count', 'Open', 'High', 'Low', 'Close', 'Volume', 'VWAP']].copy()\n",
        "    df_feat['Upper_Shadow'] = upper_shadow(df_feat)\n",
        "    df_feat['Lower_Shadow'] = lower_shadow(df_feat)\n",
        "    return df_feat\n",
        "\n",
        "def get_Xy_and_model_for_asset(df_train, asset_id):\n",
        "    df = df_train[df_train[\"Asset_ID\"] == asset_id]\n",
        "    \n",
        "    # TODO: Try different features here!\n",
        "    df_proc = get_features(df)\n",
        "    df_proc['y'] = df['Target']\n",
        "    df_proc = df_proc.dropna(how=\"any\")\n",
        "    \n",
        "    X = df_proc.drop(\"y\", axis=1)\n",
        "    y = df_proc[\"y\"]\n",
        "    \n",
        "    # TODO: Try different models here!\n",
        "    model = LGBMRegressor(n_estimators=100)\n",
        "    model.fit(X, y)\n",
        "    return X, y, model"
      ],
      "metadata": {
        "id": "jJHmf0585yOC"
      },
      "execution_count": 19,
      "outputs": []
    },
    {
      "cell_type": "code",
      "source": [
        "x_train = get_features(Train)\n",
        "y_train = Train['Target']\n",
        "\n",
        "x_test = get_features(Test)\n",
        "y_test = Test['Target']"
      ],
      "metadata": {
        "id": "ffIHgi6DGSKs"
      },
      "execution_count": 20,
      "outputs": []
    },
    {
      "cell_type": "code",
      "source": [
        ""
      ],
      "metadata": {
        "id": "4yaqzMiSGVyV"
      },
      "execution_count": null,
      "outputs": []
    },
    {
      "cell_type": "code",
      "source": [
        "\n",
        "\n",
        "#Set the minimum error arbitrarily large\n",
        "min = 99999999999999999999999 \n",
        "count = 0 #Used for keeping track of the iteration number\n",
        "#How many runs to perform using randomly selected hyperparameters\n",
        "iterations = 50\n",
        "for i in range(iterations):\n",
        "    print('iteration number', count)\n",
        "    count += 1 #increment count\n",
        "    try:\n",
        "        d_train = lgb.Dataset(x_train, label=y_train) #Load in data\n",
        "        params = {} #initialize parameters\n",
        "        params['learning_rate'] = np.random.uniform(0, 1)\n",
        "        params['boosting_type'] = np.random.choice(['gbdt', 'dart', 'goss'])\n",
        "        params['objective'] = 'regression'\n",
        "        params['metric'] = 'mae'\n",
        "        params['sub_feature'] = np.random.uniform(0, 1)\n",
        "        params['num_leaves'] = np.random.randint(20, 300)\n",
        "        params['min_data'] = np.random.randint(10, 100)\n",
        "        params['max_depth'] = np.random.randint(5, 200)\n",
        "        iterations = np.random.randint(10, 10000)\n",
        "        print(params, iterations)\n",
        "        #Train using selected parameters\n",
        "        clf = lgb.train(params, d_train, iterations)\n",
        "        y_pred=clf.predict(x_test) #Create predictions on test set\n",
        "        mae=mean_absolute_error(y_pred,y_test)\n",
        "        print('MAE:', mae)\n",
        "        if mae < min:\n",
        "            min = mae\n",
        "            pp = params \n",
        "    except: #in case something goes wrong\n",
        "        print('failed with')\n",
        "        print(params)\n",
        "print(\"*\" * 50)\n",
        "print('Minimum is: ', min)\n",
        "print('Used params', pp)"
      ],
      "metadata": {
        "colab": {
          "base_uri": "https://localhost:8080/"
        },
        "id": "uUUTEFnM6KYg",
        "outputId": "f1de6aa3-6379-43e7-d61b-d8fd8144f20c"
      },
      "execution_count": null,
      "outputs": [
        {
          "output_type": "stream",
          "name": "stdout",
          "text": [
            "iteration number 0\n",
            "{'learning_rate': 0.43507432627962683, 'boosting_type': 'goss', 'objective': 'regression', 'metric': 'mae', 'sub_feature': 0.09700303751587491, 'num_leaves': 255, 'min_data': 41, 'max_depth': 22} 8774\n",
            "MAE: 0.002582376490095529\n",
            "iteration number 1\n",
            "{'learning_rate': 0.04945819653484207, 'boosting_type': 'dart', 'objective': 'regression', 'metric': 'mae', 'sub_feature': 0.12567008013847558, 'num_leaves': 160, 'min_data': 93, 'max_depth': 136} 8067\n",
            "MAE: 0.002443787387517331\n",
            "iteration number 2\n",
            "{'learning_rate': 0.1947362760311243, 'boosting_type': 'goss', 'objective': 'regression', 'metric': 'mae', 'sub_feature': 0.4757010781030019, 'num_leaves': 131, 'min_data': 41, 'max_depth': 30} 6138\n",
            "MAE: 0.0025510543405400277\n",
            "iteration number 3\n",
            "{'learning_rate': 0.9704882161836457, 'boosting_type': 'goss', 'objective': 'regression', 'metric': 'mae', 'sub_feature': 0.03633898368930211, 'num_leaves': 142, 'min_data': 97, 'max_depth': 129} 5523\n",
            "MAE: 0.043506643560891775\n",
            "iteration number 4\n",
            "{'learning_rate': 0.9767479390761938, 'boosting_type': 'goss', 'objective': 'regression', 'metric': 'mae', 'sub_feature': 0.8968178556374071, 'num_leaves': 220, 'min_data': 59, 'max_depth': 48} 4279\n",
            "MAE: 0.009092947607933393\n",
            "iteration number 5\n",
            "{'learning_rate': 0.19638421715720977, 'boosting_type': 'gbdt', 'objective': 'regression', 'metric': 'mae', 'sub_feature': 0.19714577087217933, 'num_leaves': 232, 'min_data': 46, 'max_depth': 48} 7254\n",
            "MAE: 0.002443787387517331\n",
            "iteration number 6\n",
            "{'learning_rate': 0.1780310384635032, 'boosting_type': 'dart', 'objective': 'regression', 'metric': 'mae', 'sub_feature': 0.7942294231574394, 'num_leaves': 193, 'min_data': 90, 'max_depth': 134} 3612\n",
            "MAE: 0.002443787387517331\n",
            "iteration number 7\n",
            "{'learning_rate': 0.8155454877294696, 'boosting_type': 'gbdt', 'objective': 'regression', 'metric': 'mae', 'sub_feature': 0.7768634496317164, 'num_leaves': 128, 'min_data': 25, 'max_depth': 34} 3787\n",
            "MAE: 0.002443787387517331\n",
            "iteration number 8\n",
            "{'learning_rate': 0.21000907700114868, 'boosting_type': 'gbdt', 'objective': 'regression', 'metric': 'mae', 'sub_feature': 0.05375412934104018, 'num_leaves': 222, 'min_data': 72, 'max_depth': 198} 1999\n",
            "MAE: 0.002443787387517331\n",
            "iteration number 9\n",
            "{'learning_rate': 0.23517269858214773, 'boosting_type': 'gbdt', 'objective': 'regression', 'metric': 'mae', 'sub_feature': 0.269683568509835, 'num_leaves': 122, 'min_data': 48, 'max_depth': 84} 437\n",
            "MAE: 0.002443787387517331\n",
            "iteration number 10\n",
            "{'learning_rate': 0.2679733201699849, 'boosting_type': 'goss', 'objective': 'regression', 'metric': 'mae', 'sub_feature': 0.04011063951637628, 'num_leaves': 260, 'min_data': 14, 'max_depth': 187} 1777\n",
            "MAE: 0.0024122669803153785\n",
            "iteration number 11\n",
            "{'learning_rate': 0.9390773356735528, 'boosting_type': 'goss', 'objective': 'regression', 'metric': 'mae', 'sub_feature': 0.49865337078179595, 'num_leaves': 196, 'min_data': 42, 'max_depth': 172} 6798\n",
            "MAE: 544.2160244479758\n",
            "iteration number 12\n",
            "{'learning_rate': 0.176554982184572, 'boosting_type': 'dart', 'objective': 'regression', 'metric': 'mae', 'sub_feature': 0.8565658603172209, 'num_leaves': 249, 'min_data': 85, 'max_depth': 141} 9793\n",
            "MAE: 0.002443787387517331\n",
            "iteration number 13\n",
            "{'learning_rate': 0.04280827308335877, 'boosting_type': 'dart', 'objective': 'regression', 'metric': 'mae', 'sub_feature': 0.2308141890860702, 'num_leaves': 173, 'min_data': 77, 'max_depth': 8} 2830\n",
            "MAE: 0.002443787387517331\n",
            "iteration number 14\n",
            "{'learning_rate': 0.9271015624595024, 'boosting_type': 'goss', 'objective': 'regression', 'metric': 'mae', 'sub_feature': 0.9968198186598166, 'num_leaves': 105, 'min_data': 28, 'max_depth': 180} 2919\n",
            "MAE: 2.446417256460246\n",
            "iteration number 15\n",
            "{'learning_rate': 0.5693734232704744, 'boosting_type': 'gbdt', 'objective': 'regression', 'metric': 'mae', 'sub_feature': 0.17895392000613874, 'num_leaves': 265, 'min_data': 30, 'max_depth': 12} 2907\n",
            "MAE: 0.002443787387517331\n",
            "iteration number 16\n",
            "{'learning_rate': 0.6401045387672337, 'boosting_type': 'dart', 'objective': 'regression', 'metric': 'mae', 'sub_feature': 0.05720195619658852, 'num_leaves': 84, 'min_data': 73, 'max_depth': 27} 6377\n",
            "MAE: 0.002443787387517331\n",
            "iteration number 17\n",
            "{'learning_rate': 0.3056270580482928, 'boosting_type': 'gbdt', 'objective': 'regression', 'metric': 'mae', 'sub_feature': 0.2952133666617993, 'num_leaves': 100, 'min_data': 90, 'max_depth': 166} 1140\n",
            "MAE: 0.002443787387517331\n",
            "iteration number 18\n",
            "{'learning_rate': 0.04703895008319581, 'boosting_type': 'gbdt', 'objective': 'regression', 'metric': 'mae', 'sub_feature': 0.6595818740337317, 'num_leaves': 214, 'min_data': 62, 'max_depth': 104} 7011\n",
            "MAE: 0.002443787387517331\n",
            "iteration number 19\n",
            "{'learning_rate': 0.7982850832965149, 'boosting_type': 'dart', 'objective': 'regression', 'metric': 'mae', 'sub_feature': 0.8005863712143966, 'num_leaves': 165, 'min_data': 54, 'max_depth': 135} 3371\n",
            "MAE: 0.002443787387517331\n",
            "iteration number 20\n",
            "{'learning_rate': 0.6855127854852942, 'boosting_type': 'dart', 'objective': 'regression', 'metric': 'mae', 'sub_feature': 0.10232778596430536, 'num_leaves': 186, 'min_data': 12, 'max_depth': 38} 4276\n",
            "MAE: 0.002443787387517331\n",
            "iteration number 21\n",
            "{'learning_rate': 0.9148564661975847, 'boosting_type': 'goss', 'objective': 'regression', 'metric': 'mae', 'sub_feature': 0.6710090976951744, 'num_leaves': 35, 'min_data': 86, 'max_depth': 82} 8341\n",
            "MAE: 20361.87277166981\n",
            "iteration number 22\n",
            "{'learning_rate': 0.659840098009733, 'boosting_type': 'gbdt', 'objective': 'regression', 'metric': 'mae', 'sub_feature': 0.8382273102339421, 'num_leaves': 134, 'min_data': 34, 'max_depth': 14} 1643\n",
            "MAE: 0.002443787387517331\n",
            "iteration number 23\n",
            "{'learning_rate': 0.1763391094660156, 'boosting_type': 'goss', 'objective': 'regression', 'metric': 'mae', 'sub_feature': 0.054675530133775796, 'num_leaves': 81, 'min_data': 67, 'max_depth': 111} 3808\n",
            "MAE: 0.0024165705661564484\n",
            "iteration number 24\n",
            "{'learning_rate': 0.6289575534913497, 'boosting_type': 'dart', 'objective': 'regression', 'metric': 'mae', 'sub_feature': 0.9182115245015472, 'num_leaves': 190, 'min_data': 40, 'max_depth': 159} 9774\n",
            "MAE: 0.002443787387517331\n",
            "iteration number 25\n",
            "{'learning_rate': 0.7576673400461946, 'boosting_type': 'gbdt', 'objective': 'regression', 'metric': 'mae', 'sub_feature': 0.23268964489210142, 'num_leaves': 121, 'min_data': 96, 'max_depth': 89} 5980\n",
            "MAE: 0.002443787387517331\n",
            "iteration number 26\n",
            "{'learning_rate': 0.637313520800305, 'boosting_type': 'gbdt', 'objective': 'regression', 'metric': 'mae', 'sub_feature': 0.6119433890302494, 'num_leaves': 69, 'min_data': 63, 'max_depth': 60} 7011\n",
            "MAE: 0.002443787387517331\n",
            "iteration number 27\n",
            "{'learning_rate': 0.1707931152790264, 'boosting_type': 'dart', 'objective': 'regression', 'metric': 'mae', 'sub_feature': 0.019738611182821275, 'num_leaves': 241, 'min_data': 70, 'max_depth': 26} 1407\n",
            "MAE: 0.002443787387517331\n",
            "iteration number 28\n",
            "{'learning_rate': 0.008411477371774279, 'boosting_type': 'gbdt', 'objective': 'regression', 'metric': 'mae', 'sub_feature': 0.6835466550276393, 'num_leaves': 46, 'min_data': 65, 'max_depth': 198} 6573\n",
            "MAE: 0.002443787387517331\n",
            "iteration number 29\n",
            "{'learning_rate': 0.5426962734800821, 'boosting_type': 'gbdt', 'objective': 'regression', 'metric': 'mae', 'sub_feature': 0.8689068450865786, 'num_leaves': 134, 'min_data': 82, 'max_depth': 187} 3714\n",
            "MAE: 0.002443787387517331\n",
            "iteration number 30\n",
            "{'learning_rate': 0.7789639507194824, 'boosting_type': 'dart', 'objective': 'regression', 'metric': 'mae', 'sub_feature': 0.28997966145759335, 'num_leaves': 66, 'min_data': 26, 'max_depth': 193} 3421\n",
            "MAE: 0.002443787387517331\n",
            "iteration number 31\n",
            "{'learning_rate': 0.5757583393541553, 'boosting_type': 'gbdt', 'objective': 'regression', 'metric': 'mae', 'sub_feature': 0.798974609939295, 'num_leaves': 170, 'min_data': 54, 'max_depth': 30} 7848\n",
            "MAE: 0.002443787387517331\n",
            "iteration number 32\n",
            "{'learning_rate': 0.7601741654651886, 'boosting_type': 'dart', 'objective': 'regression', 'metric': 'mae', 'sub_feature': 0.7335212631926242, 'num_leaves': 155, 'min_data': 23, 'max_depth': 32} 7793\n"
          ]
        }
      ]
    },
    {
      "cell_type": "code",
      "source": [
        ""
      ],
      "metadata": {
        "id": "ck2RtQ7Z6Mat"
      },
      "execution_count": null,
      "outputs": []
    }
  ]
}